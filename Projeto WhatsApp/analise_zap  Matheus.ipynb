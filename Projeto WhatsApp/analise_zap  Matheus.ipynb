{
  "cells": [
    {
      "cell_type": "markdown",
      "metadata": {
        "id": "5Tj1FuGKu8IQ"
      },
      "source": [
        "A ideia desse notebook, é explicar como realizar a leitura do arquivo do whats."
      ]
    },
    {
      "cell_type": "markdown",
      "source": [
        "# Nova seção"
      ],
      "metadata": {
        "id": "TM1QovEmu-Bz"
      }
    },
    {
      "cell_type": "code",
      "execution_count": 1,
      "metadata": {
        "id": "onXAHEyEu8IT"
      },
      "outputs": [],
      "source": [
        "#enconding=utf"
      ]
    },
    {
      "cell_type": "code",
      "execution_count": 178,
      "metadata": {
        "id": "5aOSYMbzu8IU",
        "outputId": "ba3519db-0061-45ba-e1d1-f3f7ba006629",
        "colab": {
          "base_uri": "https://localhost:8080/"
        }
      },
      "outputs": [
        {
          "output_type": "stream",
          "name": "stdout",
          "text": [
            "Looking in indexes: https://pypi.org/simple, https://us-python.pkg.dev/colab-wheels/public/simple/\n",
            "Requirement already satisfied: nltk in /usr/local/lib/python3.7/dist-packages (3.2.5)\n",
            "Requirement already satisfied: six in /usr/local/lib/python3.7/dist-packages (from nltk) (1.15.0)\n"
          ]
        }
      ],
      "source": [
        "#bibliotca para formatar data.\n",
        "import datetime\n",
        "\n",
        "#\n",
        "from collections import Counter\n",
        "\n",
        "#\n",
        "import collections\n",
        "\n",
        "#\n",
        "import pandas as pd\n",
        "import string\n",
        "!pip install nltk\n",
        "#\n",
        "import matplotlib\n",
        "import matplotlib.pyplot as plt\n",
        "import seaborn as sns"
      ]
    },
    {
      "cell_type": "markdown",
      "metadata": {
        "id": "btg0_ceOu8IV"
      },
      "source": [
        "Estudo para formatação de dados. </br>\n",
        "\n",
        "link: https://stackabuse.com/converting-strings-to-datetime-in-python/ </br>\n",
        "\n",
        "\n",
        "\n",
        "%Y: Year (4 digits) <br/>\n",
        "%m: Month<br/>\n",
        "%d: Day of month<br/>\n",
        "%H: Hour (24 hour)<br/>\n",
        "%M: Minutes<br/>\n",
        "%S: Seconds<br/>\n",
        "%f: Microseconds<br/>"
      ]
    },
    {
      "cell_type": "code",
      "execution_count": 4,
      "metadata": {
        "id": "0JVnBSI8u8IV"
      },
      "outputs": [],
      "source": [
        "msg1 = \"[23/04/2020 22:00:26] Thiago: Boa galera: dfksadfhlsdfas :dfgdgdsfgdsfg\""
      ]
    },
    {
      "cell_type": "code",
      "execution_count": 5,
      "metadata": {
        "id": "v-_O9tcTu8IW",
        "outputId": "ee8dde05-e374-411b-bf33-1fa6c6e7e19b",
        "colab": {
          "base_uri": "https://localhost:8080/"
        }
      },
      "outputs": [
        {
          "output_type": "execute_result",
          "data": {
            "text/plain": [
              "[' Thiago', ' Boa galera', ' dfksadfhlsdfas ', 'dfgdgdsfgdsfg']"
            ]
          },
          "metadata": {},
          "execution_count": 5
        }
      ],
      "source": [
        "msg1[21:].split(\":\")"
      ]
    },
    {
      "cell_type": "code",
      "source": [
        "useful = []\n",
        "list_datas = []\n",
        "list_erros_formatacao = []\n",
        "list_pessoas = []\n",
        "list_msgs = []\n",
        "\n",
        "with open ('/content/_chat.txt', \"r\", encoding='utf-8') as myfile:\n",
        "    for line in myfile:\n",
        "        if \"[\" in line:\n",
        "            break\n",
        "    for line in myfile:\n",
        "          \n",
        "          if(len(line.split(':'))>2):\n",
        "             text=line[19:]\n",
        "             msg = text[text[0:].find(':')+1:]\n",
        "             contato=text[0:text[0:].find(':')+1]\n",
        "             contato= contato.replace(']','')\n",
        "             if(len(contato)>40):\n",
        "               contato = contato.replace(contato,'')\n",
        "          useful.append(line)\n",
        "          if(line[0]=='[' and line[18]==']'):\n",
        "             date_time_obj = line[0:19]\n",
        "             date_time_obj = date_time_obj.replace('[','').replace(']','').lower()\n",
        "             date_time_obj = pd.to_datetime(date_time_obj, infer_datetime_format=True)\n",
        "             list_datas.append(date_time_obj)\n",
        "             if(len(line.split(':'))>2):\n",
        "                list_pessoas.append(contato[0:contato[0:].find(':')])\n",
        "                list_msgs.append(msg)\n",
        "a_string = \"{}\".join(useful)\n",
        "\n",
        "\n",
        "\n",
        "myfile.close()"
      ],
      "metadata": {
        "id": "VBXSeuLRc906"
      },
      "execution_count": 229,
      "outputs": []
    },
    {
      "cell_type": "code",
      "execution_count": 26,
      "metadata": {
        "id": "hJkkncWzu8IX"
      },
      "outputs": [],
      "source": [
        "#ref_arquivo = open('/content/_chat.txt', \"r\", encoding='utf-8')\n",
        "#linha = ref_arquivo.readline()\n",
        "\n",
        "#list_datas = []\n",
        "#list_erros_formatacao = []\n",
        "#list_pessoas = []\n",
        "#list_msgs = []\n",
        "\n",
        "#while linha:\n",
        "    #linha = ref_arquivo.readline()\n",
        "    #try:\n",
        "       #if(linha[1]!='[' or linha[2]!='['):\n",
        "         #linha = '[' + linha\n",
        "    #except(IndexError ):\n",
        "      #pass\n",
        "      #print((linha[21:].replace('  ','').replace(chr(10),'').replace('[','').replace(']','')))\n",
        "    #print(linha[21:])\n",
        "    #msg2=''\n",
        "    #for linha in linha[21:]:\n",
        "               #print(linha)\n",
        "    #try:\n",
        "           #date_time_obj = datetime.datetime.strptime(linha[1:21], '%d/%m/%Y %H:%M:%S')\n",
        "           #list_datas.append(date_time_obj)\n",
        "           #if(':' in linha):\n",
        "              #msg=(linha[21:].replace('  ','').replace(chr(10),'').replace('[','').replace(']',''))\n",
        "           #if(len(msg.split(':')) >= 1):\n",
        "               #list_pessoas.append(msg.split(':')[0])\n",
        "               #list_msgs.append((msg[msg.find(':')+2:]))\n",
        "    #except ValueError:\n",
        "        #list_erros_formatacao.append('Errors de formatação de data')\n",
        "#ref_arquivo.close()"
      ]
    },
    {
      "cell_type": "code",
      "execution_count": 215,
      "metadata": {
        "id": "bKSq5c0Zu8IY",
        "outputId": "fca8a748-3629-4175-9c7b-b5f495aacd0f",
        "colab": {
          "base_uri": "https://localhost:8080/",
          "height": 444
        }
      },
      "outputs": [
        {
          "output_type": "stream",
          "name": "stdout",
          "text": [
            "{'': 41, ' Matheus Braga': 373, ' Ricardo': 24, ' Rosendo': 98, ' Matheus Sistema': 11, ' Agropet': 23, ' Dirceu': 42, ' Sueli Aguia': 113, ' Alfa Materiais': 13, ' \\u202a+55\\xa011\\xa097506‑6691\\u202c': 4, ' \\u202a+55\\xa011\\xa097535‑6110\\u202c': 4, ' Danilo': 5, ' Anali': 12, ' Alfa Jacarei': 20, ' Andreia Aparecida ': 4, ' Ariana': 1, ' Gustavo': 292, ' Anali Takeuchi': 87, ' Danilo Faria': 60, ' Mitaly': 107, ' Rosineia': 24, ' Loja Compras': 186, ' Katia': 41, ' Jader': 52, ' Joyce Alfa': 311, ' Rafa Alfa': 20, ' Denis': 33, ' Marcelinho Alfa': 4, ' Doni RM Serraria': 7, ' RM Serraria ': 24, ' Renatinho': 13, ' Daniel Agropet ': 34, ' Diogo Caetano Alfa': 22, ' Leticia Laura': 10}\n"
          ]
        },
        {
          "output_type": "execute_result",
          "data": {
            "text/plain": [
              "<matplotlib.axes._subplots.AxesSubplot at 0x7fbeea29b390>"
            ]
          },
          "metadata": {},
          "execution_count": 215
        },
        {
          "output_type": "display_data",
          "data": {
            "text/plain": [
              "<Figure size 432x288 with 1 Axes>"
            ],
            "image/png": "[encoded data removed]"
          },
          "metadata": {
            "needs_background": "light"
          }
        }
      ],
      "source": [
        "dict_pessoas = dict(Counter(list_pessoas))\n",
        "print(dict_pessoas)\n",
        "pessoas_df = pd.DataFrame(dict_pessoas.items(), columns=['Pessoa', 'Frequencia'])\n",
        "pessoas_df = pessoas_df.sort_values(by=['Frequencia'], ascending=False)\n",
        "pessoas_df.plot(kind='bar', x = 'Pessoa', y='Frequencia', title='Pessoas e suas frequencias')"
      ]
    },
    {
      "cell_type": "code",
      "execution_count": 166,
      "metadata": {
        "id": "2HxbHprOu8IZ",
        "outputId": "7c8c71d1-ee55-4972-d529-9b6af990fffb",
        "colab": {
          "base_uri": "https://localhost:8080/"
        }
      },
      "outputs": [
        {
          "output_type": "execute_result",
          "data": {
            "text/plain": [
              "1            Matheus Braga\n",
              "24              Joyce Alfa\n",
              "16                 Gustavo\n",
              "21            Loja Compras\n",
              "7              Sueli Aguia\n",
              "19                  Mitaly\n",
              "3                  Rosendo\n",
              "17          Anali Takeuchi\n",
              "18            Danilo Faria\n",
              "23                   Jader\n",
              "6                   Dirceu\n",
              "22                   Katia\n",
              "0                         \n",
              "31         Daniel Agropet \n",
              "26                   Denis\n",
              "29            RM Serraria \n",
              "20                Rosineia\n",
              "2                  Ricardo\n",
              "5                  Agropet\n",
              "32      Diogo Caetano Alfa\n",
              "13            Alfa Jacarei\n",
              "25               Rafa Alfa\n",
              "30               Renatinho\n",
              "8           Alfa Materiais\n",
              "12                   Anali\n",
              "4          Matheus Sistema\n",
              "33           Leticia Laura\n",
              "28        Doni RM Serraria\n",
              "11                  Danilo\n",
              "14      Andreia Aparecida \n",
              "27         Marcelinho Alfa\n",
              "9      ‪+55 11 97506‑6691‬\n",
              "10     ‪+55 11 97535‑6110‬\n",
              "15                  Ariana\n",
              "Name: Pessoa, dtype: object"
            ]
          },
          "metadata": {},
          "execution_count": 166
        }
      ],
      "source": [
        "pessoas_df['Pessoa']"
      ]
    },
    {
      "cell_type": "code",
      "execution_count": 231,
      "metadata": {
        "id": "zWf6ApGhu8Ia",
        "outputId": "7b3ecf81-3444-476c-e070-bf8fb9471cd4",
        "colab": {
          "base_uri": "https://localhost:8080/",
          "height": 397
        }
      },
      "outputs": [
        {
          "output_type": "execute_result",
          "data": {
            "text/plain": [
              "<matplotlib.axes._subplots.AxesSubplot at 0x7fbeea23a0d0>"
            ]
          },
          "metadata": {},
          "execution_count": 231
        },
        {
          "output_type": "stream",
          "name": "stderr",
          "text": [
            "/usr/local/lib/python3.7/dist-packages/matplotlib/backends/backend_agg.py:214: RuntimeWarning: Glyph 128077 missing from current font.\n",
            "  font.set_text(s, 0.0, flags=flags)\n",
            "/usr/local/lib/python3.7/dist-packages/matplotlib/backends/backend_agg.py:183: RuntimeWarning: Glyph 128077 missing from current font.\n",
            "  font.set_text(s, 0, flags=flags)\n"
          ]
        },
        {
          "output_type": "display_data",
          "data": {
            "text/plain": [
              "<Figure size 432x288 with 1 Axes>"
            ],
            "image/png": "[encoded data removed]"
          },
          "metadata": {
            "needs_background": "light"
          }
        }
      ],
      "source": [
        "def contador_palavras(msgs):\n",
        "    palavras = []\n",
        "    for frases in msgs:\n",
        "        for palavra in frases.split():\n",
        "            palavras.append(palavra)\n",
        "    return Counter(palavras)\n",
        "\n",
        "palavras_dict = dict(contador_palavras(list_msgs))\n",
        "\n",
        "palavras_df = pd.DataFrame(palavras_dict.items(), columns=['Palavra', 'Frequencia'])\n",
        "palavras_df = palavras_df.sort_values(by=['Frequencia'], ascending=False)\n",
        "palavras_df.head(10).plot(kind='bar', x = 'Palavra', y='Frequencia', title='Palavras mais faladas')"
      ]
    },
    {
      "cell_type": "code",
      "execution_count": 278,
      "metadata": {
        "id": "v-AOpjCPu8Ia"
      },
      "outputs": [],
      "source": [
        "dia_da_semana = {\n",
        "  6: \"Domingo\",\n",
        "  0: \"Segunda\",\n",
        "  1: \"Terça\",\n",
        "  2: \"Quarta\",\n",
        "  3: \"Quinta\",\n",
        "  4: \"Sexta\",\n",
        "  5: \"Sábado\"\n",
        "}\n",
        "list_horas = []\n",
        "list_dia_semana = []\n",
        "for data in list_datas:\n",
        "    list_horas.append(data.time().hour)\n",
        "    \n",
        "    dias_da_semana =  dia_da_semana.get(data.weekday())\n",
        "    list_dia_semana.append(dias_da_semana)\n",
        "    \n",
        "    #if(data.weekday() == 1):\n",
        "        #list_dia_semana.append('segunda')\n",
        "    #elif(data.weekday() == 2):\n",
        "        #list_dia_semana.append('terca')\n",
        "    #elif(data.weekday() == 3):\n",
        "        #list_dia_semana.append('quarta')\n",
        "    #elif(data.weekday() == 4):\n",
        "        #list_dia_semana.append('quinta')\n",
        "    #elif(data.weekday() == 5):\n",
        "        #list_dia_semana.append('sexta')\n",
        "    #elif(data.weekday() == 6):\n",
        "        #list_dia_semana.append('sabado')\n",
        "    #elif(data.weekday() == 0):\n",
        "        #list_dia_semana.append('domingo')"
      ]
    },
    {
      "cell_type": "code",
      "execution_count": 279,
      "metadata": {
        "id": "kKvQsYHfu8Ic"
      },
      "outputs": [],
      "source": [
        "dict_dia_semana = dict(Counter(list_dia_semana))"
      ]
    },
    {
      "cell_type": "code",
      "execution_count": 280,
      "metadata": {
        "id": "EP7Ctkm3u8Ic",
        "outputId": "98c0f54f-a930-490f-e408-9f2a0868b306",
        "colab": {
          "base_uri": "https://localhost:8080/",
          "height": 348
        }
      },
      "outputs": [
        {
          "output_type": "execute_result",
          "data": {
            "text/plain": [
              "<matplotlib.axes._subplots.AxesSubplot at 0x7fbeebe74ed0>"
            ]
          },
          "metadata": {},
          "execution_count": 280
        },
        {
          "output_type": "display_data",
          "data": {
            "text/plain": [
              "<Figure size 432x288 with 1 Axes>"
            ],
            "image/png": "[encoded data removed]"
          },
          "metadata": {
            "needs_background": "light"
          }
        }
      ],
      "source": [
        "semana_df = pd.DataFrame(dict_dia_semana.items(), columns=['Dia_Semana', 'Frequencia'])\n",
        "semana_df.plot(kind='bar', x = 'Dia_Semana', y='Frequencia', title='Dia da Semana que tem conversa')"
      ]
    },
    {
      "cell_type": "code",
      "execution_count": 281,
      "metadata": {
        "id": "2QPF7_7du8Ic",
        "outputId": "45b3e560-5b33-4d09-d37b-20c236716c65",
        "colab": {
          "base_uri": "https://localhost:8080/",
          "height": 315
        }
      },
      "outputs": [
        {
          "output_type": "execute_result",
          "data": {
            "text/plain": [
              "<matplotlib.axes._subplots.AxesSubplot at 0x7fbeeb214a90>"
            ]
          },
          "metadata": {},
          "execution_count": 281
        },
        {
          "output_type": "display_data",
          "data": {
            "text/plain": [
              "<Figure size 432x288 with 1 Axes>"
            ],
            "image/png": "[encoded data removed]"
          },
          "metadata": {
            "needs_background": "light"
          }
        }
      ],
      "source": [
        "dict_horas = dict(Counter(list_horas))\n",
        "horas_df = pd.DataFrame(dict_horas.items(), columns=['Hora', 'Frequencia'])\n",
        "horas_df.plot(kind='bar', x = 'Hora', y='Frequencia', title='Horario das Conversas')"
      ]
    },
    {
      "cell_type": "code",
      "execution_count": 282,
      "metadata": {
        "id": "UVRwO4DVu8Id",
        "outputId": "45fe046b-6787-413e-b15a-adb262c041df",
        "colab": {
          "base_uri": "https://localhost:8080/",
          "height": 279
        }
      },
      "outputs": [
        {
          "output_type": "display_data",
          "data": {
            "text/plain": [
              "<Figure size 432x288 with 1 Axes>"
            ],
            "image/png": "[encoded data removed]"
          },
          "metadata": {
            "needs_background": "light"
          }
        }
      ],
      "source": [
        "ax = sns.lineplot(x=\"Hora\", y=\"Frequencia\", data=horas_df, ci=68)"
      ]
    }
  ],
  "metadata": {
    "kernelspec": {
      "display_name": "Python 3",
      "language": "python",
      "name": "python3"
    },
    "language_info": {
      "codemirror_mode": {
        "name": "ipython",
        "version": 3
      },
      "file_extension": ".py",
      "mimetype": "text/x-python",
      "name": "python",
      "nbconvert_exporter": "python",
      "pygments_lexer": "ipython3",
      "version": "3.7.4"
    },
    "colab": {
      "name": "analise_zap.ipynb",
      "provenance": []
    }
  },
  "nbformat": 4,
  "nbformat_minor": 0
}